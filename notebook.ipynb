{
 "cells": [
  {
   "cell_type": "markdown",
   "id": "95a7abd0",
   "metadata": {},
   "source": [
    "# Unit 2: Fisheries Collapse Module Overview\n",
    "\n",
    "This module will focus on examining a crucial global issue and important scientific debate about the state of global fisheries.  In this module we will seek to reproduce some of the most widely cited examples of species collapse ever, and examine the evidence behind an influential and widely cited paper on global fisheries, [Worm et al 2006](http://doi.org/10.1126/science.1132294).  However, rather than use the limited data available to Boris Worm and colleagues in 2006, we will be drawing from the best and most recent stock asssement data available today to see how those patterns have faired.  \n",
    "\n",
    "In this module we will also begin to master one of the most important concepts in data science: manipulation of tabular data using relational database concepts. Instead of working with independent data.frames, we will be working with a large relational database which contains many different tables of different sizes and shapes, but that all all related to each other through a series of different ids.  \n",
    "\n"
   ]
  },
  {
   "cell_type": "markdown",
   "id": "61ba8492-439d-46f0-b423-f6346d9cba53",
   "metadata": {},
   "source": [
    "## The Database\n",
    "\n",
    "We will use data from the RAM Legacy Stock Assessment Database.  In order to better introduce some important emerging technologies, we will be accessing these data directly from a relatively new platform that is now playing a key role in data sharing in machine learning communities, with the memorable name, HuggingFace.  We will be streaming data from <https://huggingface.co/datasets/cboettig/ram_fisheries/tree/main/v4.65>.  We will have more to say about this approach as we progress.\n",
    "\n"
   ]
  },
  {
   "cell_type": "markdown",
   "id": "a13f9198-5cc5-4af7-9853-f08fce59dac8",
   "metadata": {},
   "source": [
    "## Researcher Spotlight: Daniel Pauly\n",
    "\n",
    "Science is done by real people.  There are many influential and colorful characters in the global fisheries debate.  I want to highlight Professor Pauly not just because he is so famous, but as an early believer in Open Science and Data Science, before we had either of those words.  His contributions in making fisheries data more open were ground breaking for their time.  I'm also indebted to Professor Pauly whom I had the privilege to meet when I was a junior scientist who had only recently released one of my first software packages, aimed at making data from FishBase more accessible. Academic researchers are typically defined by scientific publications, not software, so I was shocked that Pauly already knew of my software package, and that he encouraged me to continue developing software.  Even today that is not common advice, but I believed him, and it's probably a good reason I am where I am today.  Scientific textbooks and courses are often critiqued for failing to recognize the contributions of those from minority backgrounds, but as the texts are written on global change ecology, I think none will omit the works for Professor Pauly.\n",
    "\n",
    "\n"
   ]
  },
  {
   "cell_type": "markdown",
   "id": "3a1b8944-1eda-4229-ad84-76facc592eac",
   "metadata": {},
   "source": [
    "## Science Introduction\n",
    "\n",
    "Background abbreviated documentary, features many of the leading authors on both sides https://vimeo.com/44104959"
   ]
  },
  {
   "cell_type": "code",
   "execution_count": 3,
   "id": "ffb87442",
   "metadata": {},
   "outputs": [],
   "source": [
    "import ibis\n",
    "from ibis import _\n",
    "import ibis.selectors as s\n",
    "import seaborn.objects as so"
   ]
  },
  {
   "cell_type": "markdown",
   "id": "cdbc9dc1-89db-4190-9683-9b7833e64207",
   "metadata": {},
   "source": [
    "\n",
    "# Exercise 1: Investigating the North-Atlantic Cod\n",
    "\n",
    "Now we are ready to dive into our data. First, We seek to replicate the following figure from the Millennium Ecosystem Assessment Project using the RAM data.\n",
    "\n",
    "![](https://espm-157.github.io/website-r/img/cod.jpg)\n"
   ]
  },
  {
   "cell_type": "code",
   "execution_count": null,
   "id": "c8a426ad-d13a-4011-83f0-108e09036853",
   "metadata": {},
   "outputs": [],
   "source": []
  },
  {
   "cell_type": "markdown",
   "id": "88f42ebf-a09d-4cf9-8748-12bf7889c2db",
   "metadata": {},
   "source": [
    "# Excersise 2: Global Fisheries \n",
    "\n",
    "## Stock Collapses\n",
    "\n",
    "We seek to replicate the temporal trend in stock declines shown in [Worm et al 2006](http://doi.org/10.1126/science.1132294):\n",
    "\n",
    "![](https://espm-157.github.io/website-r/img/worm2006.jpg)"
   ]
  },
  {
   "cell_type": "code",
   "execution_count": null,
   "id": "0cf887f4-6d94-45f4-8667-512b302d65c6",
   "metadata": {},
   "outputs": [],
   "source": []
  }
 ],
 "metadata": {
  "kernelspec": {
   "display_name": "Python 3 (ipykernel)",
   "language": "python",
   "name": "python3"
  },
  "language_info": {
   "codemirror_mode": {
    "name": "ipython",
    "version": 3
   },
   "file_extension": ".py",
   "mimetype": "text/x-python",
   "name": "python",
   "nbconvert_exporter": "python",
   "pygments_lexer": "ipython3",
   "version": "3.12.6"
  },
  "vscode": {
   "interpreter": {
    "hash": "31f2aee4e71d21fbe5cf8b01ff0e069b9275f58929596ceb00d14d90e3e16cd6"
   }
  }
 },
 "nbformat": 4,
 "nbformat_minor": 5
}
